{
 "cells": [
  {
   "cell_type": "code",
   "execution_count": 103,
   "metadata": {},
   "outputs": [],
   "source": [
    "import pandas as pd\n",
    "import numpy as np\n",
    "import emoji"
   ]
  },
  {
   "cell_type": "code",
   "execution_count": 104,
   "metadata": {},
   "outputs": [],
   "source": [
    "# combine the csv files \n",
    "# df contain all 5000 tweets\n",
    "df1 = pd.read_csv('matched_tweets_4443.csv', usecols=['tweet_id','tweet_text','year','final_rating'], index_col='tweet_id')\n",
    "df2 = pd.read_csv('unmatched_tweets_557.csv', usecols=['tweet_id','tweet_text','year','majority_rating'], index_col='tweet_id')\n",
    "df = pd.concat([df1, df2], axis=0)"
   ]
  },
  {
   "cell_type": "code",
   "execution_count": 105,
   "metadata": {},
   "outputs": [],
   "source": [
    "# remove the emoji and replace it with the its text\n",
    "\n",
    "df['tweet_text'] = df['tweet_text'].apply(lambda x: emoji.demojize(x,  delimiters=(\" \", \" \")).replace(\"_\", \" \").replace(\"-\", \" \"))"
   ]
  },
  {
   "cell_type": "code",
   "execution_count": 106,
   "metadata": {},
   "outputs": [],
   "source": [
    "# combine the majority_rating and final_rating\n",
    "df['merged_rating'] = df['majority_rating'].fillna(df['final_rating'])"
   ]
  },
  {
   "cell_type": "code",
   "execution_count": 107,
   "metadata": {},
   "outputs": [],
   "source": [
    "# convert the file to csv format\n",
    "# name: dataset.csv\n",
    "df.to_csv('dataset.csv')"
   ]
  },
  {
   "cell_type": "code",
   "execution_count": 109,
   "metadata": {},
   "outputs": [],
   "source": [
    "# split dataset.csv into relevant and irrelevant\n",
    "\n",
    "# relevant\n",
    "relevant_df = df.loc[df['merged_rating'] == 1, ['tweet_text', 'year']]\n",
    "relevant_df.to_csv('relevant_dataset.csv')\n",
    "relevant_df.reset_index(inplace=True)\n",
    "\n",
    "# irrelevant\n",
    "irrelevant_df = df.loc[df['merged_rating'] == 0, ['tweet_text', 'year']]\n",
    "irrelevant_df.to_csv('irrelevant_dataset.csv')\n",
    "irrelevant_df.reset_index(inplace=True)\n"
   ]
  },
  {
   "cell_type": "code",
   "execution_count": null,
   "metadata": {},
   "outputs": [],
   "source": []
  }
 ],
 "metadata": {
  "kernelspec": {
   "display_name": "base",
   "language": "python",
   "name": "python3"
  },
  "language_info": {
   "codemirror_mode": {
    "name": "ipython",
    "version": 3
   },
   "file_extension": ".py",
   "mimetype": "text/x-python",
   "name": "python",
   "nbconvert_exporter": "python",
   "pygments_lexer": "ipython3",
   "version": "3.11.3"
  },
  "orig_nbformat": 4
 },
 "nbformat": 4,
 "nbformat_minor": 2
}
